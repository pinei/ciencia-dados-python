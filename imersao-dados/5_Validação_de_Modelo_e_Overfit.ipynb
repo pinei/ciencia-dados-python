{
  "nbformat": 4,
  "nbformat_minor": 0,
  "metadata": {
    "colab": {
      "name": "5. Validação de Modelo e Overfit.ipynb",
      "provenance": [],
      "collapsed_sections": [],
      "authorship_tag": "ABX9TyPNcvUg8UBy1lqB8NG8p1ml",
      "include_colab_link": true
    },
    "kernelspec": {
      "name": "python3",
      "display_name": "Python 3"
    }
  },
  "cells": [
    {
      "cell_type": "markdown",
      "metadata": {
        "id": "view-in-github",
        "colab_type": "text"
      },
      "source": [
        "<a href=\"https://colab.research.google.com/github/pinei/ciencia-dados-python/blob/main/imersao-dados/5_Valida%C3%A7%C3%A3o_de_Modelo_e_Overfit.ipynb\" target=\"_parent\"><img src=\"https://colab.research.google.com/assets/colab-badge.svg\" alt=\"Open In Colab\"/></a>"
      ]
    },
    {
      "cell_type": "code",
      "metadata": {
        "id": "PhMVbh49_KrW"
      },
      "source": [
        "import pandas as pd\n",
        "import matplotlib.pyplot as plt\n",
        "\n",
        "# Amostra de dados do ENEM (dados originais disponiveis em http://portal.inep.gov.br/microdados)\n",
        "fonte = \"https://raw.githubusercontent.com/alura-cursos/imersao-dados-2-2020/master/MICRODADOS_ENEM_2019_SAMPLE_43278.csv\"\n",
        "dados_df = pd.read_csv(fonte)  # type: <class 'pandas.core.frame.DataFrame'>\n",
        "\n",
        "# Ciências da Natureza, Ciências Humanas, Matemática, Linguagens e Codigos, Redação\n",
        "provas = [\"NU_NOTA_CN\", \"NU_NOTA_CH\", \"NU_NOTA_MT\", \"NU_NOTA_LC\", \"NU_NOTA_REDACAO\"]\n",
        "\n",
        "# Soma das Notas é dada pela Soma Horizontal das variáveis que representam as Notas (axis=1)\n",
        "# Precisa de uma Nota válida para ser considerada, se tornando NaN se todas a Notas foram NaN (min_count=1)\n",
        "dados_df[\"NU_NOTA_TOTAL\"] = dados_df[provas].sum(axis=1, min_count=1) # type: pandas.core.series.Series"
      ],
      "execution_count": null,
      "outputs": []
    },
    {
      "cell_type": "code",
      "metadata": {
        "id": "V1CA-_9dCIU0"
      },
      "source": [
        "dados_notas_df = dados_df[provas].dropna() # Retira os valores NaN\n",
        "\n",
        "# Variáveis de entrada e saída para o Machine Learning\n",
        "provas_entrada = [\"NU_NOTA_CN\", \"NU_NOTA_CH\", \"NU_NOTA_LC\", \"NU_NOTA_REDACAO\"]\n",
        "provas_saida = \"NU_NOTA_MT\"\n",
        "\n",
        "notas_entrada = dados_notas_df[provas_entrada]\n",
        "notas_saida = dados_notas_df[provas_saida]"
      ],
      "execution_count": null,
      "outputs": []
    },
    {
      "cell_type": "code",
      "metadata": {
        "id": "YYFRCW0JDUq_"
      },
      "source": [
        "# Dados de Treino e Teste do modelo de Machine Learning\n",
        "from sklearn.model_selection import train_test_split\n",
        "\n",
        "x = notas_entrada\n",
        "y = notas_saida\n",
        "\n",
        "x_treino, x_teste, y_treino, y_teste = train_test_split(x, y, test_size=0.25)"
      ],
      "execution_count": null,
      "outputs": []
    },
    {
      "cell_type": "code",
      "metadata": {
        "id": "QZBgr6AKvqr6",
        "outputId": "33f4422d-85b6-42dd-da23-d0367787f474",
        "colab": {
          "base_uri": "https://localhost:8080/",
          "height": 68
        }
      },
      "source": [
        "# Modelo Support Vector Regression (SVR)\n",
        "from sklearn.svm import LinearSVR\n",
        "from sklearn.metrics import mean_squared_error\n",
        "\n",
        "# Rodando o modelo com o fator de aleatoriedade implicito\n",
        "modelo = LinearSVR()\n",
        "modelo.fit(x_treino, y_treino)\n",
        "predicoes_notas_mt = modelo.predict(x_teste)\n",
        "\n",
        "# O \"mean squared error\" em diferentes rodadas está variando entre 6000 a 23000.\n",
        "mean_squared_error(y_teste, predicoes_notas_mt)"
      ],
      "execution_count": null,
      "outputs": [
        {
          "output_type": "stream",
          "text": [
            "/usr/local/lib/python3.6/dist-packages/sklearn/svm/_base.py:947: ConvergenceWarning: Liblinear failed to converge, increase the number of iterations.\n",
            "  \"the number of iterations.\", ConvergenceWarning)\n"
          ],
          "name": "stderr"
        },
        {
          "output_type": "execute_result",
          "data": {
            "text/plain": [
              "6136.983750398868"
            ]
          },
          "metadata": {
            "tags": []
          },
          "execution_count": 19
        }
      ]
    },
    {
      "cell_type": "code",
      "metadata": {
        "id": "YpwZQe_NvZ75",
        "outputId": "e8950a51-8cdd-4667-ad13-7a8091f6d2f1",
        "colab": {
          "base_uri": "https://localhost:8080/",
          "height": 34
        }
      },
      "source": [
        "# Precisamos reduzir tentando outros modelos a aleatoriedade do resultado anterior.\n",
        "\n",
        "# Modelo Decision Tree\n",
        "from sklearn.tree import DecisionTreeRegressor\n",
        "\n",
        "# A separação dos dados de treino e teste já impõe um fator de aleatoriedade no resultado do modelo.\n",
        "x_treino, x_teste, y_treino, y_teste = train_test_split(x, y, test_size=0.25)\n",
        "\n",
        "# O modelo Decision Tree tem um fator muito baixo de aleatoriedade\n",
        "modelo_arvore = DecisionTreeRegressor(max_depth = 3)\n",
        "modelo_arvore.fit(x_treino, y_treino)\n",
        "predicoes_notas_mt_arvore = modelo.predict(x_teste)\n",
        "\n",
        "# O \"mean squared error\" em diferentes rodadas está variando entre 6055 e 6210,\n",
        "# praticamente em função dos dados de treino e teste que estão variando.\n",
        "mean_squared_error(y_teste, predicoes_notas_mt_arvore)"
      ],
      "execution_count": null,
      "outputs": [
        {
          "output_type": "execute_result",
          "data": {
            "text/plain": [
              "6111.912931696606"
            ]
          },
          "metadata": {
            "tags": []
          },
          "execution_count": 55
        }
      ]
    },
    {
      "cell_type": "code",
      "metadata": {
        "id": "Pn7pVMq02mEX",
        "outputId": "23c44b3a-28ff-42d2-f171-abddf7462382",
        "colab": {
          "base_uri": "https://localhost:8080/",
          "height": 833
        }
      },
      "source": [
        "# Listando as métricas de validação de modelo\n",
        "from sklearn.metrics import SCORERS\n",
        "sorted(SCORERS.keys())"
      ],
      "execution_count": null,
      "outputs": [
        {
          "output_type": "execute_result",
          "data": {
            "text/plain": [
              "['accuracy',\n",
              " 'adjusted_mutual_info_score',\n",
              " 'adjusted_rand_score',\n",
              " 'average_precision',\n",
              " 'balanced_accuracy',\n",
              " 'completeness_score',\n",
              " 'explained_variance',\n",
              " 'f1',\n",
              " 'f1_macro',\n",
              " 'f1_micro',\n",
              " 'f1_samples',\n",
              " 'f1_weighted',\n",
              " 'fowlkes_mallows_score',\n",
              " 'homogeneity_score',\n",
              " 'jaccard',\n",
              " 'jaccard_macro',\n",
              " 'jaccard_micro',\n",
              " 'jaccard_samples',\n",
              " 'jaccard_weighted',\n",
              " 'max_error',\n",
              " 'mutual_info_score',\n",
              " 'neg_brier_score',\n",
              " 'neg_log_loss',\n",
              " 'neg_mean_absolute_error',\n",
              " 'neg_mean_gamma_deviance',\n",
              " 'neg_mean_poisson_deviance',\n",
              " 'neg_mean_squared_error',\n",
              " 'neg_mean_squared_log_error',\n",
              " 'neg_median_absolute_error',\n",
              " 'neg_root_mean_squared_error',\n",
              " 'normalized_mutual_info_score',\n",
              " 'precision',\n",
              " 'precision_macro',\n",
              " 'precision_micro',\n",
              " 'precision_samples',\n",
              " 'precision_weighted',\n",
              " 'r2',\n",
              " 'recall',\n",
              " 'recall_macro',\n",
              " 'recall_micro',\n",
              " 'recall_samples',\n",
              " 'recall_weighted',\n",
              " 'roc_auc',\n",
              " 'roc_auc_ovo',\n",
              " 'roc_auc_ovo_weighted',\n",
              " 'roc_auc_ovr',\n",
              " 'roc_auc_ovr_weighted',\n",
              " 'v_measure_score']"
            ]
          },
          "metadata": {
            "tags": []
          },
          "execution_count": 62
        }
      ]
    },
    {
      "cell_type": "code",
      "metadata": {
        "id": "VNZsauB71YaZ",
        "outputId": "0563f5c8-ef57-447a-d3e6-94ee31fde559",
        "colab": {
          "base_uri": "https://localhost:8080/",
          "height": 51
        }
      },
      "source": [
        "# Executando a validação do modelo Decision Tree para os nossos dados\n",
        "from sklearn.model_selection import cross_validate\n",
        "\n",
        "modelo_arvore = DecisionTreeRegressor(max_depth = 3)\n",
        "\n",
        "# Separa os dados em 5 grupos de Treino e Teste e gera um score para cada grupo\n",
        "resultados = cross_validate(modelo_arvore, x, y, cv=10, scoring='neg_mean_squared_error')\n",
        "mean_squared_errors = (resultados[\"test_score\"]*-1)\n",
        "\n",
        "# Informações sobre os scores, convertendo para \"mean squared error\"\n",
        "print(f'Média: {mean_squared_errors.mean()}')\n",
        "print(f'Desvio padrão: {mean_squared_errors.std()}')"
      ],
      "execution_count": null,
      "outputs": [
        {
          "output_type": "stream",
          "text": [
            "Média: 6068.316591338464\n",
            "Desvio padrão: 263.0416699975136\n"
          ],
          "name": "stdout"
        }
      ]
    },
    {
      "cell_type": "code",
      "metadata": {
        "id": "a0bN7aBLCKU_",
        "outputId": "da950187-656a-4e17-90d7-869a5460af1c",
        "colab": {
          "base_uri": "https://localhost:8080/",
          "height": 51
        }
      },
      "source": [
        "from sklearn.model_selection import KFold\n",
        "\n",
        "# Embaralhamento dos dados para evitar viés de ordenação na formação dos grupos\n",
        "splitting_strategy = KFold(n_splits = 10, shuffle=True)\n",
        "\n",
        "modelo_arvore = DecisionTreeRegressor(max_depth = 3)\n",
        "resultados = cross_validate(modelo_arvore, x, y, cv=splitting_strategy, scoring='neg_mean_squared_error')\n",
        "mean_squared_errors = (resultados[\"test_score\"]*-1)\n",
        "\n",
        "print(f'Média: {mean_squared_errors.mean()}')\n",
        "print(f'Desvio padrão: {mean_squared_errors.std()}')"
      ],
      "execution_count": null,
      "outputs": [
        {
          "output_type": "stream",
          "text": [
            "Média: 6057.361823141282\n",
            "Desvio padrão: 98.93231689367828\n"
          ],
          "name": "stdout"
        }
      ]
    },
    {
      "cell_type": "code",
      "metadata": {
        "id": "VonzVm7PFTlI",
        "outputId": "fbf319d5-786c-4eaf-af56-e5b8083c4014",
        "colab": {
          "base_uri": "https://localhost:8080/",
          "height": 340
        }
      },
      "source": [
        "import numpy as np\n",
        "\n",
        "def regressor_arvore(depth=3):\n",
        "  np.random.seed(12345678)\n",
        "  splitting_strategy = KFold(n_splits = 10, shuffle=True)\n",
        "  modelo_arvore = DecisionTreeRegressor(max_depth = depth)\n",
        "  resultados = cross_validate(modelo_arvore, x, y, cv=splitting_strategy, scoring='neg_mean_squared_error', return_train_score=True)\n",
        "  print(f'Treino: {(resultados[\"train_score\"]*-1).mean()}  | Teste: {(resultados[\"test_score\"]*-1).mean()}')\n",
        "\n",
        "# A partir de uma dada profundidade da árvore, o modelo fica muito tendencioso para os \n",
        "# dados de Treino, incorrendo em maior erro na predição dos dados de Teste\n",
        "for i in range(1,20):\n",
        "  regressor_arvore(i)"
      ],
      "execution_count": null,
      "outputs": [
        {
          "output_type": "stream",
          "text": [
            "Treino: 7850.060623712294  | Teste: 7865.0044563078045\n",
            "Treino: 6533.24520802353  | Teste: 6561.1343803952595\n",
            "Treino: 6026.761392794219  | Teste: 6058.506173748952\n",
            "Treino: 5765.883870826261  | Teste: 5821.8850793378515\n",
            "Treino: 5602.271192533086  | Teste: 5685.778168141817\n",
            "Treino: 5470.174137277867  | Teste: 5585.442545602948\n",
            "Treino: 5369.12895877315  | Teste: 5528.579257286031\n",
            "Treino: 5275.9832691820875  | Teste: 5531.826584513519\n",
            "Treino: 5166.030186907752  | Teste: 5603.899682615754\n",
            "Treino: 5023.928443414469  | Teste: 5733.809663995886\n",
            "Treino: 4837.554028600104  | Teste: 5936.618823619619\n",
            "Treino: 4603.789381074799  | Teste: 6178.227614386802\n",
            "Treino: 4322.877113755471  | Teste: 6478.7672261447815\n",
            "Treino: 4007.9310544414125  | Teste: 6830.638865283536\n",
            "Treino: 3663.5197173494394  | Teste: 7181.435971901973\n",
            "Treino: 3303.7872537688463  | Teste: 7594.981578722097\n",
            "Treino: 2943.474600298102  | Teste: 8001.066744089624\n",
            "Treino: 2587.6981493316553  | Teste: 8400.529986844027\n",
            "Treino: 2248.3473691289228  | Teste: 8771.131566552334\n"
          ],
          "name": "stdout"
        }
      ]
    }
  ]
}